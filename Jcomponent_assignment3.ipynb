{
  "nbformat": 4,
  "nbformat_minor": 0,
  "metadata": {
    "colab": {
      "provenance": [],
      "authorship_tag": "ABX9TyP1X8iwQaIxX3Vww3gz7f1e",
      "include_colab_link": true
    },
    "kernelspec": {
      "name": "python3",
      "display_name": "Python 3"
    },
    "language_info": {
      "name": "python"
    }
  },
  "cells": [
    {
      "cell_type": "markdown",
      "metadata": {
        "id": "view-in-github",
        "colab_type": "text"
      },
      "source": [
        "<a href=\"https://colab.research.google.com/github/knr2003/ML/blob/main/Jcomponent_assignment3.ipynb\" target=\"_parent\"><img src=\"https://colab.research.google.com/assets/colab-badge.svg\" alt=\"Open In Colab\"/></a>"
      ]
    },
    {
      "cell_type": "code",
      "source": [
        "import pandas as pd \n",
        "import numpy as np\n",
        "import matplotlib.pyplot as pt\n",
        "d=pd.read_csv('Salary_Data.csv')\n",
        "print(d)\n",
        "\n",
        "d1=d.fillna(0)\n",
        "y = d1['YearsExperience']\n",
        "x=d1['Salary']\n",
        "b1=11780\n",
        "b0=12250\n",
        "summation = 0  \n",
        "n = len(y)\n",
        "for i in range (0,n): \n",
        "  y_bar =(b1*y[i])+b0\n",
        "  dif =(x[i])-(y_bar) \n",
        "  squared_difference = dif*dif \n",
        "  summation = summation + squared_difference  \n",
        "MSE = summation/30  \n",
        "print(\"The Mean Square Error is: \" , MSE)\n",
        "\n",
        "\n",
        "pt.plot(x,y,marker='s',ms=\"10\",c='blue',ls=\"dotted\")\n",
        "pt.scatter(x,y,c='black')\n",
        "pt.grid(axis=\"both\",ls=\"dashed\",lw=1,c=\"g\")\n",
        "pt.xlabel(\"Experience\")\n",
        "pt.ylabel(\"Income\")\n",
        "pt.title(\"Dataset of Salary\")"
      ],
      "metadata": {
        "colab": {
          "base_uri": "https://localhost:8080/",
          "height": 868
        },
        "id": "nT8BqXhwd93f",
        "outputId": "dcf46198-ba48-4faf-aad5-b107f17fe048"
      },
      "execution_count": 5,
      "outputs": [
        {
          "output_type": "stream",
          "name": "stdout",
          "text": [
            "    YearsExperience    Salary\n",
            "0               1.1   39343.0\n",
            "1               1.3   46205.0\n",
            "2               1.5   37731.0\n",
            "3               2.0   43525.0\n",
            "4               2.2   39891.0\n",
            "5               2.9   56642.0\n",
            "6               3.0   60150.0\n",
            "7               3.2   54445.0\n",
            "8               3.2   64445.0\n",
            "9               3.7   57189.0\n",
            "10              3.9   63218.0\n",
            "11              4.0   55794.0\n",
            "12              4.0   56957.0\n",
            "13              4.1   57081.0\n",
            "14              4.5   61111.0\n",
            "15              4.9   67938.0\n",
            "16              5.1   66029.0\n",
            "17              5.3   83088.0\n",
            "18              5.9   81363.0\n",
            "19              6.0   93940.0\n",
            "20              6.8   91738.0\n",
            "21              7.1   98273.0\n",
            "22              7.9  101302.0\n",
            "23              8.2  113812.0\n",
            "24              8.7  109431.0\n",
            "25              9.0  105582.0\n",
            "26              9.5  116969.0\n",
            "27              9.6  112635.0\n",
            "28             10.3  122391.0\n",
            "29             10.5  121872.0\n",
            "The Mean Square Error is:  74887238.73333333\n"
          ]
        },
        {
          "output_type": "execute_result",
          "data": {
            "text/plain": [
              "Text(0.5, 1.0, 'Dataset of Salary')"
            ]
          },
          "metadata": {},
          "execution_count": 5
        },
        {
          "output_type": "display_data",
          "data": {
            "text/plain": [
              "<Figure size 432x288 with 1 Axes>"
            ],
            "image/png": "[encoded data removed]"
          },
          "metadata": {
            "needs_background": "light"
          }
        }
      ]
    }
  ]
}